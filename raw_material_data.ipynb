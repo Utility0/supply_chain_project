{
 "cells": [
  {
   "cell_type": "code",
   "execution_count": 18,
   "metadata": {},
   "outputs": [],
   "source": [
    "#!pip -q install pandas seaborn \n",
    "import pandas as pd\n",
    "import seaborn as sns\n",
    "import matplotlib.pyplot as plt"
   ]
  },
  {
   "cell_type": "markdown",
   "metadata": {},
   "source": [
    "# Analysis of raw material data\n",
    "\n",
    "Source of the data: [Kering Group](URL 'https://kering-group.opendatasoft.com/pages/home/')\n",
    "\n",
    "Two datasets are used in this analysis: \n",
    "\n",
    "- [Material quantity in 2019 and 2020](URL 'https://kering-group.opendatasoft.com/explore/dataset/material-quantity-in-2019-and-2020/table/?disjunctive.material_group')\n",
    "\n",
    "It contains the total quantity of each type of raw material.\n",
    "\n",
    "\n",
    "- [Raw material intensities 2020 ](URL 'https://kering-group.opendatasoft.com/explore/dataset/material-quantity-in-2019-and-2020/table/?disjunctive.material_group')\n",
    "\n",
    "For each country, it contains the type of raw material, the type of processing (extraction, spinning), the type of environmental impact (water pollution, air pollution) "
   ]
  },
  {
   "cell_type": "code",
   "execution_count": 19,
   "metadata": {},
   "outputs": [
    {
     "data": {
      "text/html": [
       "<div>\n",
       "<style scoped>\n",
       "    .dataframe tbody tr th:only-of-type {\n",
       "        vertical-align: middle;\n",
       "    }\n",
       "\n",
       "    .dataframe tbody tr th {\n",
       "        vertical-align: top;\n",
       "    }\n",
       "\n",
       "    .dataframe thead th {\n",
       "        text-align: right;\n",
       "    }\n",
       "</style>\n",
       "<table border=\"1\" class=\"dataframe\">\n",
       "  <thead>\n",
       "    <tr style=\"text-align: right;\">\n",
       "      <th></th>\n",
       "      <th>Tier</th>\n",
       "      <th>Material Group</th>\n",
       "      <th>Raw material</th>\n",
       "      <th>Processstep</th>\n",
       "      <th>Impactcountry</th>\n",
       "      <th>Environmentalimpactgroup</th>\n",
       "      <th>Indicator unit</th>\n",
       "      <th>Material_ePKI_intensity</th>\n",
       "      <th>Valued_Ekpi_intensity</th>\n",
       "    </tr>\n",
       "  </thead>\n",
       "  <tbody>\n",
       "    <tr>\n",
       "      <th>0</th>\n",
       "      <td>4.0</td>\n",
       "      <td>Metal</td>\n",
       "      <td>Metal - gold - 18kt - yellow - conventional</td>\n",
       "      <td>Extraction</td>\n",
       "      <td>Australia</td>\n",
       "      <td>Water pollution</td>\n",
       "      <td>kg</td>\n",
       "      <td>253.721377</td>\n",
       "      <td>1995.277050</td>\n",
       "    </tr>\n",
       "    <tr>\n",
       "      <th>1</th>\n",
       "      <td>3.0</td>\n",
       "      <td>Animal Fibers</td>\n",
       "      <td>Animal Fibers - mohair - conventional</td>\n",
       "      <td>Spinning Weaving and Dyeing</td>\n",
       "      <td>Austria</td>\n",
       "      <td>Water pollution</td>\n",
       "      <td>kg</td>\n",
       "      <td>0.003065</td>\n",
       "      <td>0.109072</td>\n",
       "    </tr>\n",
       "    <tr>\n",
       "      <th>2</th>\n",
       "      <td>3.0</td>\n",
       "      <td>Animal Fibers</td>\n",
       "      <td>Animal Fibers - wool - restorative grazing</td>\n",
       "      <td>Spinning Weaving and Dyeing</td>\n",
       "      <td>Austria</td>\n",
       "      <td>Water pollution</td>\n",
       "      <td>kg</td>\n",
       "      <td>0.003065</td>\n",
       "      <td>0.109072</td>\n",
       "    </tr>\n",
       "    <tr>\n",
       "      <th>3</th>\n",
       "      <td>3.0</td>\n",
       "      <td>Plant Fibers</td>\n",
       "      <td>Plant Fibers - cotton - conventional</td>\n",
       "      <td>Spinning Weaving and Dyeing</td>\n",
       "      <td>Austria</td>\n",
       "      <td>Water pollution</td>\n",
       "      <td>kg</td>\n",
       "      <td>0.003385</td>\n",
       "      <td>0.133600</td>\n",
       "    </tr>\n",
       "    <tr>\n",
       "      <th>4</th>\n",
       "      <td>3.0</td>\n",
       "      <td>Plant Fibers</td>\n",
       "      <td>Plant Fibers - cotton - organic</td>\n",
       "      <td>Spinning Weaving and Dyeing</td>\n",
       "      <td>Austria</td>\n",
       "      <td>Water pollution</td>\n",
       "      <td>kg</td>\n",
       "      <td>0.003385</td>\n",
       "      <td>0.133600</td>\n",
       "    </tr>\n",
       "    <tr>\n",
       "      <th>...</th>\n",
       "      <td>...</td>\n",
       "      <td>...</td>\n",
       "      <td>...</td>\n",
       "      <td>...</td>\n",
       "      <td>...</td>\n",
       "      <td>...</td>\n",
       "      <td>...</td>\n",
       "      <td>...</td>\n",
       "      <td>...</td>\n",
       "    </tr>\n",
       "    <tr>\n",
       "      <th>12155</th>\n",
       "      <td>4.0</td>\n",
       "      <td>Metal</td>\n",
       "      <td>Metal - brass - conventional</td>\n",
       "      <td>Extraction</td>\n",
       "      <td>Vietnam</td>\n",
       "      <td>Water consumption</td>\n",
       "      <td>m3</td>\n",
       "      <td>0.600140</td>\n",
       "      <td>0.206288</td>\n",
       "    </tr>\n",
       "    <tr>\n",
       "      <th>12156</th>\n",
       "      <td>4.0</td>\n",
       "      <td>Synthetic Fibers</td>\n",
       "      <td>Synthetic Fibers - nylon - conventional</td>\n",
       "      <td>Extraction</td>\n",
       "      <td>Vietnam</td>\n",
       "      <td>Water consumption</td>\n",
       "      <td>m3</td>\n",
       "      <td>0.009415</td>\n",
       "      <td>0.003236</td>\n",
       "    </tr>\n",
       "    <tr>\n",
       "      <th>12157</th>\n",
       "      <td>3.0</td>\n",
       "      <td>Precious skin</td>\n",
       "      <td>Precious skin - croc and gator - farmed</td>\n",
       "      <td>Abattoir</td>\n",
       "      <td>Zimbabwe</td>\n",
       "      <td>Water consumption</td>\n",
       "      <td>m3</td>\n",
       "      <td>0.006750</td>\n",
       "      <td>0.042630</td>\n",
       "    </tr>\n",
       "    <tr>\n",
       "      <th>12158</th>\n",
       "      <td>4.0</td>\n",
       "      <td>Plant Fibers</td>\n",
       "      <td>Plant Fibers - cotton - conventional</td>\n",
       "      <td>Crop farming</td>\n",
       "      <td>Zimbabwe</td>\n",
       "      <td>Water consumption</td>\n",
       "      <td>m3</td>\n",
       "      <td>9.897405</td>\n",
       "      <td>62.504636</td>\n",
       "    </tr>\n",
       "    <tr>\n",
       "      <th>12159</th>\n",
       "      <td>4.0</td>\n",
       "      <td>Plant Fibers</td>\n",
       "      <td>Plant Fibers - cotton - organic</td>\n",
       "      <td>Crop farming</td>\n",
       "      <td>Zimbabwe</td>\n",
       "      <td>Water consumption</td>\n",
       "      <td>m3</td>\n",
       "      <td>0.212569</td>\n",
       "      <td>1.342430</td>\n",
       "    </tr>\n",
       "  </tbody>\n",
       "</table>\n",
       "<p>12160 rows × 9 columns</p>\n",
       "</div>"
      ],
      "text/plain": [
       "       Tier    Material Group                                 Raw material  \\\n",
       "0       4.0             Metal  Metal - gold - 18kt - yellow - conventional   \n",
       "1       3.0     Animal Fibers        Animal Fibers - mohair - conventional   \n",
       "2       3.0     Animal Fibers   Animal Fibers - wool - restorative grazing   \n",
       "3       3.0      Plant Fibers         Plant Fibers - cotton - conventional   \n",
       "4       3.0      Plant Fibers              Plant Fibers - cotton - organic   \n",
       "...     ...               ...                                          ...   \n",
       "12155   4.0             Metal                 Metal - brass - conventional   \n",
       "12156   4.0  Synthetic Fibers      Synthetic Fibers - nylon - conventional   \n",
       "12157   3.0     Precious skin      Precious skin - croc and gator - farmed   \n",
       "12158   4.0      Plant Fibers         Plant Fibers - cotton - conventional   \n",
       "12159   4.0      Plant Fibers              Plant Fibers - cotton - organic   \n",
       "\n",
       "                       Processstep Impactcountry Environmentalimpactgroup  \\\n",
       "0                       Extraction     Australia          Water pollution   \n",
       "1      Spinning Weaving and Dyeing       Austria          Water pollution   \n",
       "2      Spinning Weaving and Dyeing       Austria          Water pollution   \n",
       "3      Spinning Weaving and Dyeing       Austria          Water pollution   \n",
       "4      Spinning Weaving and Dyeing       Austria          Water pollution   \n",
       "...                            ...           ...                      ...   \n",
       "12155                   Extraction       Vietnam        Water consumption   \n",
       "12156                   Extraction       Vietnam        Water consumption   \n",
       "12157                     Abattoir      Zimbabwe        Water consumption   \n",
       "12158                 Crop farming      Zimbabwe        Water consumption   \n",
       "12159                 Crop farming      Zimbabwe        Water consumption   \n",
       "\n",
       "      Indicator unit  Material_ePKI_intensity  Valued_Ekpi_intensity  \n",
       "0                 kg               253.721377            1995.277050  \n",
       "1                 kg                 0.003065               0.109072  \n",
       "2                 kg                 0.003065               0.109072  \n",
       "3                 kg                 0.003385               0.133600  \n",
       "4                 kg                 0.003385               0.133600  \n",
       "...              ...                      ...                    ...  \n",
       "12155             m3                 0.600140               0.206288  \n",
       "12156             m3                 0.009415               0.003236  \n",
       "12157             m3                 0.006750               0.042630  \n",
       "12158             m3                 9.897405              62.504636  \n",
       "12159             m3                 0.212569               1.342430  \n",
       "\n",
       "[12160 rows x 9 columns]"
      ]
     },
     "execution_count": 19,
     "metadata": {},
     "output_type": "execute_result"
    }
   ],
   "source": [
    "# Load raw materials data\n",
    "quantities = pd.read_csv('raw_material_data/material-quantity-in-2019-and-2020.csv', sep=';')\n",
    "df = pd.read_csv('raw_material_data/raw-material-intensities-2020.csv', sep=';')\n",
    "df"
   ]
  },
  {
   "cell_type": "markdown",
   "metadata": {},
   "source": [
    "## Raw material"
   ]
  },
  {
   "cell_type": "code",
   "execution_count": 20,
   "metadata": {},
   "outputs": [
    {
     "data": {
      "text/plain": [
       "[Text(0.5, 1.0, 'Raw material distribution')]"
      ]
     },
     "execution_count": 20,
     "metadata": {},
     "output_type": "execute_result"
    },
    {
     "data": {
      "image/png": "[encoded data removed]",
      "text/plain": [
       "<Figure size 1152x432 with 1 Axes>"
      ]
     },
     "metadata": {
      "needs_background": "light"
     },
     "output_type": "display_data"
    }
   ],
   "source": [
    "material = pd.value_counts(df['Material Group']).reset_index()\n",
    "material\n",
    "plt.figure(figsize=(16, 6))\n",
    "sns.barplot(x='Material Group', y='index', data=material, palette='Blues_d').set(title='Raw material distribution')"
   ]
  },
  {
   "cell_type": "markdown",
   "metadata": {},
   "source": [
    "## Country"
   ]
  },
  {
   "cell_type": "code",
   "execution_count": 21,
   "metadata": {},
   "outputs": [
    {
     "data": {
      "text/plain": [
       "Italy         1054\n",
       "China          943\n",
       "France         634\n",
       "Germany        562\n",
       "India          545\n",
       "              ... \n",
       "Botswana        12\n",
       "Moldova         12\n",
       "Tajikistan      12\n",
       "Myanmar         12\n",
       "Luxembourg      12\n",
       "Name: Impactcountry, Length: 90, dtype: int64"
      ]
     },
     "execution_count": 21,
     "metadata": {},
     "output_type": "execute_result"
    }
   ],
   "source": [
    "pd.value_counts(df['Impactcountry'])"
   ]
  },
  {
   "cell_type": "code",
   "execution_count": 22,
   "metadata": {},
   "outputs": [
    {
     "data": {
      "text/html": [
       "<div>\n",
       "<style scoped>\n",
       "    .dataframe tbody tr th:only-of-type {\n",
       "        vertical-align: middle;\n",
       "    }\n",
       "\n",
       "    .dataframe tbody tr th {\n",
       "        vertical-align: top;\n",
       "    }\n",
       "\n",
       "    .dataframe thead th {\n",
       "        text-align: right;\n",
       "    }\n",
       "</style>\n",
       "<table border=\"1\" class=\"dataframe\">\n",
       "  <thead>\n",
       "    <tr style=\"text-align: right;\">\n",
       "      <th></th>\n",
       "      <th>Tier</th>\n",
       "      <th>Material_ePKI_intensity</th>\n",
       "      <th>Valued_Ekpi_intensity</th>\n",
       "    </tr>\n",
       "  </thead>\n",
       "  <tbody>\n",
       "    <tr>\n",
       "      <th>count</th>\n",
       "      <td>12160.000000</td>\n",
       "      <td>1.216000e+04</td>\n",
       "      <td>12160.000000</td>\n",
       "    </tr>\n",
       "    <tr>\n",
       "      <th>mean</th>\n",
       "      <td>3.337829</td>\n",
       "      <td>2.235735e+02</td>\n",
       "      <td>48.784917</td>\n",
       "    </tr>\n",
       "    <tr>\n",
       "      <th>std</th>\n",
       "      <td>0.472989</td>\n",
       "      <td>9.740508e+03</td>\n",
       "      <td>1031.053485</td>\n",
       "    </tr>\n",
       "    <tr>\n",
       "      <th>min</th>\n",
       "      <td>3.000000</td>\n",
       "      <td>1.251558e-13</td>\n",
       "      <td>0.000000</td>\n",
       "    </tr>\n",
       "    <tr>\n",
       "      <th>25%</th>\n",
       "      <td>3.000000</td>\n",
       "      <td>4.611334e-04</td>\n",
       "      <td>0.000623</td>\n",
       "    </tr>\n",
       "    <tr>\n",
       "      <th>50%</th>\n",
       "      <td>3.000000</td>\n",
       "      <td>1.071500e-02</td>\n",
       "      <td>0.009083</td>\n",
       "    </tr>\n",
       "    <tr>\n",
       "      <th>75%</th>\n",
       "      <td>4.000000</td>\n",
       "      <td>1.890534e-01</td>\n",
       "      <td>0.101650</td>\n",
       "    </tr>\n",
       "    <tr>\n",
       "      <th>max</th>\n",
       "      <td>4.000000</td>\n",
       "      <td>7.747335e+05</td>\n",
       "      <td>56925.312188</td>\n",
       "    </tr>\n",
       "  </tbody>\n",
       "</table>\n",
       "</div>"
      ],
      "text/plain": [
       "               Tier  Material_ePKI_intensity  Valued_Ekpi_intensity\n",
       "count  12160.000000             1.216000e+04           12160.000000\n",
       "mean       3.337829             2.235735e+02              48.784917\n",
       "std        0.472989             9.740508e+03            1031.053485\n",
       "min        3.000000             1.251558e-13               0.000000\n",
       "25%        3.000000             4.611334e-04               0.000623\n",
       "50%        3.000000             1.071500e-02               0.009083\n",
       "75%        4.000000             1.890534e-01               0.101650\n",
       "max        4.000000             7.747335e+05           56925.312188"
      ]
     },
     "execution_count": 22,
     "metadata": {},
     "output_type": "execute_result"
    }
   ],
   "source": [
    "df.describe()"
   ]
  },
  {
   "cell_type": "code",
   "execution_count": 23,
   "metadata": {},
   "outputs": [
    {
     "name": "stdout",
     "output_type": "stream",
     "text": [
      "Number of countries: 90\n",
      "Number of raw material groups: 15\n"
     ]
    }
   ],
   "source": [
    "print(f\"Number of countries: {len(df.Impactcountry.unique())}\")\n",
    "print(f\"Number of raw material groups: {len(df['Material Group'].unique())}\")"
   ]
  },
  {
   "cell_type": "code",
   "execution_count": null,
   "metadata": {},
   "outputs": [],
   "source": []
  }
 ],
 "metadata": {
  "interpreter": {
   "hash": "23e0433c604b1e6122269bcdc6f1a6cbf7fff763d2dd7298670bce4b5b074474"
  },
  "kernelspec": {
   "display_name": "Python 3.7.11 64-bit ('abm': conda)",
   "language": "python",
   "name": "python3"
  },
  "language_info": {
   "codemirror_mode": {
    "name": "ipython",
    "version": 3
   },
   "file_extension": ".py",
   "mimetype": "text/x-python",
   "name": "python",
   "nbconvert_exporter": "python",
   "pygments_lexer": "ipython3",
   "version": "3.7.11"
  },
  "orig_nbformat": 4
 },
 "nbformat": 4,
 "nbformat_minor": 2
}
